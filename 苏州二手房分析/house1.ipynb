{
 "cells": [
  {
   "cell_type": "code",
   "execution_count": 1,
   "metadata": {},
   "outputs": [
    {
     "name": "stdout",
     "output_type": "stream",
     "text": [
      "        小区名称     总价 总价单位     单价  单价单位    户型   楼层   朝向        面积      年份    区域  \\\n",
      "0   世茂运河城尚运苑  368.0    万  26958  元/平米  3室2厅  低楼层  南 北  136.51平米    未知年建    姑苏   \n",
      "1     阳光水榭花园  190.0    万  21215  元/平米  2室1厅  中楼层    南   89.56平米  2006年建    吴中   \n",
      "2     湖岸名家南区  155.0    万  20946  元/平米  2室2厅  低楼层    南      74平米  2007年建    吴中   \n",
      "3       香城颐园  200.0    万  22334  元/平米  2室2厅  低楼层  南 北   89.55平米  2012年建    相城   \n",
      "4  雅戈尔YAKR公馆  440.0    万  41084  元/平米  2室2厅  高楼层    南   107.1平米  2008年建  工业园区   \n",
      "\n",
      "     地点  \n",
      "0  沧浪新城  \n",
      "1    城南  \n",
      "2    郭巷  \n",
      "3    元和  \n",
      "4    玲珑   (3000, 12)\n"
     ]
    }
   ],
   "source": [
    "import pandas as pd\n",
    "import numpy as np\n",
    "import matplotlib.pyplot as plt\n",
    "\n",
    "house=pd.read_csv('house.csv',engine='python',encoding='gbk',names=['小区名称','总价','总价单位','单价','单价单位','户型','楼层','朝向','面积','年份','区域','地点'])\n",
    "print(house.head(),house.shape)"
   ]
  },
  {
   "cell_type": "code",
   "execution_count": 2,
   "metadata": {},
   "outputs": [
    {
     "data": {
      "text/plain": [
       "False"
      ]
     },
     "execution_count": 2,
     "metadata": {},
     "output_type": "execute_result"
    }
   ],
   "source": [
    "#判断整个数据中是否存在缺失数据\n",
    "isNull=np.any(house.isnull())==True\n",
    "isNull"
   ]
  },
  {
   "cell_type": "code",
   "execution_count": 3,
   "metadata": {},
   "outputs": [
    {
     "name": "stdout",
     "output_type": "stream",
     "text": [
      "<class 'pandas.core.frame.DataFrame'>\n",
      "RangeIndex: 3000 entries, 0 to 2999\n",
      "Data columns (total 12 columns):\n",
      "小区名称    3000 non-null object\n",
      "总价      3000 non-null float64\n",
      "总价单位    3000 non-null object\n",
      "单价      3000 non-null int64\n",
      "单价单位    3000 non-null object\n",
      "户型      3000 non-null object\n",
      "楼层      3000 non-null object\n",
      "朝向      3000 non-null object\n",
      "面积      3000 non-null object\n",
      "年份      3000 non-null object\n",
      "区域      3000 non-null object\n",
      "地点      3000 non-null object\n",
      "dtypes: float64(1), int64(1), object(10)\n",
      "memory usage: 281.3+ KB\n"
     ]
    }
   ],
   "source": [
    "house.info()"
   ]
  },
  {
   "cell_type": "code",
   "execution_count": 4,
   "metadata": {},
   "outputs": [
    {
     "data": {
      "text/html": [
       "<div>\n",
       "<style scoped>\n",
       "    .dataframe tbody tr th:only-of-type {\n",
       "        vertical-align: middle;\n",
       "    }\n",
       "\n",
       "    .dataframe tbody tr th {\n",
       "        vertical-align: top;\n",
       "    }\n",
       "\n",
       "    .dataframe thead th {\n",
       "        text-align: right;\n",
       "    }\n",
       "</style>\n",
       "<table border=\"1\" class=\"dataframe\">\n",
       "  <thead>\n",
       "    <tr style=\"text-align: right;\">\n",
       "      <th></th>\n",
       "      <th>最低价</th>\n",
       "      <th>均价</th>\n",
       "      <th>最高价</th>\n",
       "    </tr>\n",
       "    <tr>\n",
       "      <th>区域</th>\n",
       "      <th></th>\n",
       "      <th></th>\n",
       "      <th></th>\n",
       "    </tr>\n",
       "  </thead>\n",
       "  <tbody>\n",
       "    <tr>\n",
       "      <th>吴中</th>\n",
       "      <td>10455</td>\n",
       "      <td>22555.923200</td>\n",
       "      <td>43715</td>\n",
       "    </tr>\n",
       "    <tr>\n",
       "      <th>吴江</th>\n",
       "      <td>9391</td>\n",
       "      <td>18436.982906</td>\n",
       "      <td>28847</td>\n",
       "    </tr>\n",
       "    <tr>\n",
       "      <th>姑苏</th>\n",
       "      <td>10136</td>\n",
       "      <td>22863.563025</td>\n",
       "      <td>45334</td>\n",
       "    </tr>\n",
       "    <tr>\n",
       "      <th>工业园区</th>\n",
       "      <td>11504</td>\n",
       "      <td>35382.344432</td>\n",
       "      <td>82540</td>\n",
       "    </tr>\n",
       "    <tr>\n",
       "      <th>昆山</th>\n",
       "      <td>9471</td>\n",
       "      <td>19574.060606</td>\n",
       "      <td>40761</td>\n",
       "    </tr>\n",
       "    <tr>\n",
       "      <th>相城</th>\n",
       "      <td>8959</td>\n",
       "      <td>20493.452328</td>\n",
       "      <td>34445</td>\n",
       "    </tr>\n",
       "    <tr>\n",
       "      <th>高新</th>\n",
       "      <td>12772</td>\n",
       "      <td>25751.764463</td>\n",
       "      <td>52024</td>\n",
       "    </tr>\n",
       "  </tbody>\n",
       "</table>\n",
       "</div>"
      ],
      "text/plain": [
       "        最低价            均价    最高价\n",
       "区域                              \n",
       "吴中    10455  22555.923200  43715\n",
       "吴江     9391  18436.982906  28847\n",
       "姑苏    10136  22863.563025  45334\n",
       "工业园区  11504  35382.344432  82540\n",
       "昆山     9471  19574.060606  40761\n",
       "相城     8959  20493.452328  34445\n",
       "高新    12772  25751.764463  52024"
      ]
     },
     "execution_count": 4,
     "metadata": {},
     "output_type": "execute_result"
    }
   ],
   "source": [
    "#不同区域的单价平均值\n",
    "region_price=pd.DataFrame()\n",
    "region_price['最低价']=house['单价'].groupby(house['区域']).min()\n",
    "region_price['均价']=house['单价'].groupby(house['区域']).mean()\n",
    "region_price['最高价']=house['单价'].groupby(house['区域']).max()\n",
    "region_price"
   ]
  },
  {
   "cell_type": "code",
   "execution_count": 5,
   "metadata": {},
   "outputs": [
    {
     "data": {
      "text/plain": [
       "23579.72727998727"
      ]
     },
     "execution_count": 5,
     "metadata": {},
     "output_type": "execute_result"
    }
   ],
   "source": [
    "avg_price=region_price['均价'].mean()\n",
    "avg_price"
   ]
  },
  {
   "cell_type": "code",
   "execution_count": 6,
   "metadata": {
    "scrolled": false
   },
   "outputs": [
    {
     "data": {
      "image/png": "[encoded data removed]",
      "text/plain": [
       "<matplotlib.figure.Figure at 0x229d2af9e8>"
      ]
     },
     "metadata": {},
     "output_type": "display_data"
    }
   ],
   "source": [
    "plt.rcParams['font.sans-serif']=['SimHei'] #用来正常显示中文标签\n",
    "plt.rcParams['axes.unicode_minus']=False\n",
    "\n",
    "plt.figure(figsize=(10,6))\n",
    "plt.title('区域 VS 单价',fontsize=20)\n",
    "min_x = range(1, 33, 5)\n",
    "avg_x = range(2, 34, 5)\n",
    "max_x = range(3, 35, 5)\n",
    "plt.bar(min_x,region_price['最低价'],color='limegreen', label='最低价')\n",
    "plt.bar(avg_x,region_price['均价'],color='dodgerblue', label='最均价')\n",
    "plt.bar(max_x,region_price['最高价'],color='orangered', label='最高价')\n",
    "plt.xticks(range(2, 34, 5), region_price.index, fontsize=14)\n",
    "plt.xlabel('区域',fontsize=16)\n",
    "plt.ylabel('单价(元/平米)',fontsize=16)\n",
    "plt.tick_params(labelsize=14)\n",
    "plt.axhline(avg_price,label=\"苏州均价\",color='gray',linestyle=\"--\",alpha=0.8)\n",
    "plt.legend()\n",
    "plt.show()"
   ]
  },
  {
   "cell_type": "code",
   "execution_count": 7,
   "metadata": {},
   "outputs": [
    {
     "data": {
      "text/html": [
       "<div>\n",
       "<style scoped>\n",
       "    .dataframe tbody tr th:only-of-type {\n",
       "        vertical-align: middle;\n",
       "    }\n",
       "\n",
       "    .dataframe tbody tr th {\n",
       "        vertical-align: top;\n",
       "    }\n",
       "\n",
       "    .dataframe thead th {\n",
       "        text-align: right;\n",
       "    }\n",
       "</style>\n",
       "<table border=\"1\" class=\"dataframe\">\n",
       "  <thead>\n",
       "    <tr style=\"text-align: right;\">\n",
       "      <th></th>\n",
       "      <th>最低价</th>\n",
       "      <th>均价</th>\n",
       "      <th>最高价</th>\n",
       "    </tr>\n",
       "    <tr>\n",
       "      <th>地点</th>\n",
       "      <th></th>\n",
       "      <th></th>\n",
       "      <th></th>\n",
       "    </tr>\n",
       "  </thead>\n",
       "  <tbody>\n",
       "    <tr>\n",
       "      <th>东沙湖</th>\n",
       "      <td>22470</td>\n",
       "      <td>37504.373832</td>\n",
       "      <td>54591</td>\n",
       "    </tr>\n",
       "    <tr>\n",
       "      <th>东环</th>\n",
       "      <td>14034</td>\n",
       "      <td>23445.460526</td>\n",
       "      <td>45334</td>\n",
       "    </tr>\n",
       "    <tr>\n",
       "      <th>双湖</th>\n",
       "      <td>29008</td>\n",
       "      <td>43560.684211</td>\n",
       "      <td>59460</td>\n",
       "    </tr>\n",
       "    <tr>\n",
       "      <th>唯亭</th>\n",
       "      <td>15594</td>\n",
       "      <td>18802.800000</td>\n",
       "      <td>21361</td>\n",
       "    </tr>\n",
       "    <tr>\n",
       "      <th>娄葑</th>\n",
       "      <td>15758</td>\n",
       "      <td>22634.340000</td>\n",
       "      <td>50710</td>\n",
       "    </tr>\n",
       "    <tr>\n",
       "      <th>斜塘</th>\n",
       "      <td>19850</td>\n",
       "      <td>28875.840000</td>\n",
       "      <td>34775</td>\n",
       "    </tr>\n",
       "    <tr>\n",
       "      <th>湖东</th>\n",
       "      <td>17386</td>\n",
       "      <td>36691.821622</td>\n",
       "      <td>63167</td>\n",
       "    </tr>\n",
       "    <tr>\n",
       "      <th>湖东CBD</th>\n",
       "      <td>24303</td>\n",
       "      <td>36935.123894</td>\n",
       "      <td>82540</td>\n",
       "    </tr>\n",
       "    <tr>\n",
       "      <th>湖西CBD</th>\n",
       "      <td>23321</td>\n",
       "      <td>45086.111111</td>\n",
       "      <td>77875</td>\n",
       "    </tr>\n",
       "    <tr>\n",
       "      <th>独墅湖高教区</th>\n",
       "      <td>25854</td>\n",
       "      <td>34762.193548</td>\n",
       "      <td>48485</td>\n",
       "    </tr>\n",
       "    <tr>\n",
       "      <th>玲珑</th>\n",
       "      <td>41084</td>\n",
       "      <td>53923.804878</td>\n",
       "      <td>67177</td>\n",
       "    </tr>\n",
       "    <tr>\n",
       "      <th>白塘</th>\n",
       "      <td>33334</td>\n",
       "      <td>45205.714286</td>\n",
       "      <td>54095</td>\n",
       "    </tr>\n",
       "    <tr>\n",
       "      <th>胜浦</th>\n",
       "      <td>16974</td>\n",
       "      <td>16974.000000</td>\n",
       "      <td>16974</td>\n",
       "    </tr>\n",
       "    <tr>\n",
       "      <th>跨塘</th>\n",
       "      <td>19660</td>\n",
       "      <td>27066.750000</td>\n",
       "      <td>34393</td>\n",
       "    </tr>\n",
       "    <tr>\n",
       "      <th>车坊</th>\n",
       "      <td>14280</td>\n",
       "      <td>17159.333333</td>\n",
       "      <td>21532</td>\n",
       "    </tr>\n",
       "    <tr>\n",
       "      <th>青剑湖</th>\n",
       "      <td>11504</td>\n",
       "      <td>28110.057143</td>\n",
       "      <td>54340</td>\n",
       "    </tr>\n",
       "  </tbody>\n",
       "</table>\n",
       "</div>"
      ],
      "text/plain": [
       "          最低价            均价    最高价\n",
       "地点                                \n",
       "东沙湖     22470  37504.373832  54591\n",
       "东环      14034  23445.460526  45334\n",
       "双湖      29008  43560.684211  59460\n",
       "唯亭      15594  18802.800000  21361\n",
       "娄葑      15758  22634.340000  50710\n",
       "斜塘      19850  28875.840000  34775\n",
       "湖东      17386  36691.821622  63167\n",
       "湖东CBD   24303  36935.123894  82540\n",
       "湖西CBD   23321  45086.111111  77875\n",
       "独墅湖高教区  25854  34762.193548  48485\n",
       "玲珑      41084  53923.804878  67177\n",
       "白塘      33334  45205.714286  54095\n",
       "胜浦      16974  16974.000000  16974\n",
       "跨塘      19660  27066.750000  34393\n",
       "车坊      14280  17159.333333  21532\n",
       "青剑湖     11504  28110.057143  54340"
      ]
     },
     "execution_count": 7,
     "metadata": {},
     "output_type": "execute_result"
    }
   ],
   "source": [
    "#工业园区不同地点的房价分布\n",
    "house2=house[house['区域']==\"工业园区\"]\n",
    "place_price=pd.DataFrame()\n",
    "place_price['最低价']=house2['单价'].groupby(house['地点']).min()\n",
    "place_price['均价']=house2['单价'].groupby(house['地点']).mean()\n",
    "place_price['最高价']=house2['单价'].groupby(house['地点']).max()\n",
    "place_price"
   ]
  },
  {
   "cell_type": "code",
   "execution_count": 8,
   "metadata": {},
   "outputs": [
    {
     "data": {
      "image/png": "[encoded data removed]",
      "text/plain": [
       "<matplotlib.figure.Figure at 0x229d2af8d0>"
      ]
     },
     "metadata": {},
     "output_type": "display_data"
    }
   ],
   "source": [
    "place_avgprice=place_price['均价'].sort_values(ascending=False)\n",
    "yuanqu_avgprice=place_price['均价'].mean()\n",
    "plt.figure(figsize=(10,6))\n",
    "plt.title('苏州工业园区各地点的房价均值',fontsize=20)\n",
    "plt.axhline(avg_price,color='green',linestyle=\"--\",label=\"苏州均价:%d\"%int(avg_price))\n",
    "plt.axhline(yuanqu_avgprice,color='red',linestyle=\"--\",label=\"园区均价:%d\"%int(yuanqu_avgprice))\n",
    "place_avgprice.plot(kind='bar',width=0.8,label='园区各地点均价')\n",
    "plt.tick_params(labelsize=14)\n",
    "plt.ylabel('均价(元/平米)',fontsize=16)\n",
    "plt.xlabel('园区各地点',fontsize=16)\n",
    "plt.legend()\n",
    "plt.show()"
   ]
  },
  {
   "cell_type": "code",
   "execution_count": 9,
   "metadata": {},
   "outputs": [
    {
     "data": {
      "text/html": [
       "<div>\n",
       "<style scoped>\n",
       "    .dataframe tbody tr th:only-of-type {\n",
       "        vertical-align: middle;\n",
       "    }\n",
       "\n",
       "    .dataframe tbody tr th {\n",
       "        vertical-align: top;\n",
       "    }\n",
       "\n",
       "    .dataframe thead th {\n",
       "        text-align: right;\n",
       "    }\n",
       "</style>\n",
       "<table border=\"1\" class=\"dataframe\">\n",
       "  <thead>\n",
       "    <tr style=\"text-align: right;\">\n",
       "      <th></th>\n",
       "      <th>数量</th>\n",
       "      <th>比例</th>\n",
       "    </tr>\n",
       "    <tr>\n",
       "      <th>区域</th>\n",
       "      <th></th>\n",
       "      <th></th>\n",
       "    </tr>\n",
       "  </thead>\n",
       "  <tbody>\n",
       "    <tr>\n",
       "      <th>吴中</th>\n",
       "      <td>625</td>\n",
       "      <td>20.833333</td>\n",
       "    </tr>\n",
       "    <tr>\n",
       "      <th>吴江</th>\n",
       "      <td>117</td>\n",
       "      <td>3.900000</td>\n",
       "    </tr>\n",
       "    <tr>\n",
       "      <th>姑苏</th>\n",
       "      <td>595</td>\n",
       "      <td>19.833333</td>\n",
       "    </tr>\n",
       "    <tr>\n",
       "      <th>工业园区</th>\n",
       "      <td>871</td>\n",
       "      <td>29.033333</td>\n",
       "    </tr>\n",
       "    <tr>\n",
       "      <th>昆山</th>\n",
       "      <td>99</td>\n",
       "      <td>3.300000</td>\n",
       "    </tr>\n",
       "    <tr>\n",
       "      <th>相城</th>\n",
       "      <td>451</td>\n",
       "      <td>15.033333</td>\n",
       "    </tr>\n",
       "    <tr>\n",
       "      <th>高新</th>\n",
       "      <td>242</td>\n",
       "      <td>8.066667</td>\n",
       "    </tr>\n",
       "  </tbody>\n",
       "</table>\n",
       "</div>"
      ],
      "text/plain": [
       "       数量         比例\n",
       "区域                  \n",
       "吴中    625  20.833333\n",
       "吴江    117   3.900000\n",
       "姑苏    595  19.833333\n",
       "工业园区  871  29.033333\n",
       "昆山     99   3.300000\n",
       "相城    451  15.033333\n",
       "高新    242   8.066667"
      ]
     },
     "execution_count": 9,
     "metadata": {},
     "output_type": "execute_result"
    }
   ],
   "source": [
    "#不同区域二手房的数量\n",
    "house_num=pd.DataFrame()\n",
    "house_num['数量']=house['小区名称'].groupby(house['区域']).count()\n",
    "house_num['比例']=house_num['数量']/house_num['数量'].sum()*100\n",
    "house_num"
   ]
  },
  {
   "cell_type": "code",
   "execution_count": 14,
   "metadata": {},
   "outputs": [
    {
     "data": {
      "image/png": "[encoded data removed]",
      "text/plain": [
       "<matplotlib.figure.Figure at 0x22945aaf60>"
      ]
     },
     "metadata": {},
     "output_type": "display_data"
    }
   ],
   "source": [
    "house_ratio=house_num['比例'].sort_values(ascending=False)\n",
    "plt.rcParams['font.sans-serif']=['SimHei'] #用来正常显示中文标签\n",
    "plt.rcParams['axes.unicode_minus']=False\n",
    "plt.title('苏州不同区域二手房数量比例',fontsize=20)\n",
    "plt.axis('equal')\n",
    "plt.pie(house_ratio,labels=house_ratio.index,autopct = '%3.1f%%')\n",
    "plt.show()"
   ]
  }
 ],
 "metadata": {
  "kernelspec": {
   "display_name": "Python 3",
   "language": "python",
   "name": "python3"
  },
  "language_info": {
   "codemirror_mode": {
    "name": "ipython",
    "version": 3
   },
   "file_extension": ".py",
   "mimetype": "text/x-python",
   "name": "python",
   "nbconvert_exporter": "python",
   "pygments_lexer": "ipython3",
   "version": "3.6.4"
  }
 },
 "nbformat": 4,
 "nbformat_minor": 2
}
